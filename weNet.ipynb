{
 "cells": [
  {
   "cell_type": "markdown",
   "id": "6f14cda4",
   "metadata": {
    "slideshow": {
     "slide_type": "slide"
    }
   },
   "source": [
    "<div class=\"jumbotron\\\">\n",
    "    <center>\n",
    "    <h1>WeNet: A PubMed Central real time knowledge graph generator and analyzer</h1>\n",
    "    <h2> Rosario Cannavò, Mario Benissimo</h2>\n",
    "      <h3>A.A. 2021/2022</h3>\n",
    "        <h5><a href=\"https://github.com/Mantellinas\">Mantellinas</a></h5>\n",
    "    </center>\n",
    "</div>"
   ]
  },
  {
   "cell_type": "markdown",
   "id": "23ab8516",
   "metadata": {
    "slideshow": {
     "slide_type": "slide"
    }
   },
   "source": [
    "PubMed è un motore di ricerca gratuito di letteratura scientifica biomedica dal 1949 ad oggi; la sua prima versione online è del gennaio del 1996. Condivide le informazioni di base con Medline e con l'Index Medicus, la corrispondente versione a stampa la cui pubblicazione è stata interrotta nel 2004 a causa dell'avvento degli strumenti informatici."
   ]
  },
  {
   "cell_type": "markdown",
   "id": "e86da4f1",
   "metadata": {
    "slideshow": {
     "slide_type": "slide"
    }
   },
   "source": [
    "<center>\n",
    "    <img src=\"images/pubmed_search.png\" style=\"width:800px\"; />\n",
    "</center>"
   ]
  },
  {
   "cell_type": "markdown",
   "id": "0d7ce301",
   "metadata": {
    "slideshow": {
     "slide_type": "subslide"
    }
   },
   "source": [
    "Ad oggi, PubMed dispone di oltre **34 milioni**i citazioni e abstract risalenti al 1966, selettivamente al 1865 e molto selettivamente al 1809. Alla stessa data, 20 milioni di record di PubMed sono elencati con i loro abstract e 21,5 milioni di record hanno link alle versioni full-text (di cui 7,5 milioni di articoli sono disponibili, full-text, gratuitamente). Negli ultimi 10 anni (terminati il 31 dicembre 2019), sono stati aggiunti in media quasi **1 milione di nuovi record all'anno**. Circa il 12% dei record di PubMed corrisponde a voci relative al cancro, e altre percentuali significative di record corrispondono a \"chimica\" (8,69%), \"terapia\" (8,39%) e \"infezione\" (5%).\n",
    "\n"
   ]
  },
  {
   "cell_type": "markdown",
   "id": "e0218351",
   "metadata": {
    "slideshow": {
     "slide_type": "slide"
    }
   },
   "source": [
    "Una delle componente maggiormente utilizzate di PubMed è PubMed Central.\n",
    "PMC è un archivio full-text che comprende articoli di riviste esaminate e selezionate dalla NLM per l'archiviazione (attuali e storiche), nonché singoli articoli raccolti per l'archiviazione"
   ]
  },
  {
   "cell_type": "markdown",
   "id": "9c744644",
   "metadata": {
    "slideshow": {
     "slide_type": "subslide"
    }
   },
   "source": [
    "<center>\n",
    "    <img src=\"images/pubmedcentral.png\" style=\"width:800px\"; />\n",
    "</center>"
   ]
  },
  {
   "cell_type": "markdown",
   "id": "bc692dc6",
   "metadata": {
    "slideshow": {
     "slide_type": "slide"
    }
   },
   "source": [
    "Il repository PubMed viene aggiornato ogni ogni giorno e centinaia di documenti vengono aggiunti al database incrementando la quantità di informazioni fruibili a tutti gli utilizzatori."
   ]
  },
  {
   "cell_type": "markdown",
   "id": "cf5ead07",
   "metadata": {
    "slideshow": {
     "slide_type": "subslide"
    }
   },
   "source": [
    "L’enorme quantità di letteratura biologica, che aumenta di giorno in giorno,\n",
    "rappresenta una risorsa strategica per estrarre e acquisire automaticamen-\n",
    "te la conoscenza che riguarda le relazioni tra elementi biologici, inoltre, le\n",
    "reti di conoscenza sono strumenti utili nel contesto della scoperta e della\n",
    "modellazione della conoscenza biologica. "
   ]
  },
  {
   "cell_type": "markdown",
   "id": "daf9cf0e",
   "metadata": {
    "slideshow": {
     "slide_type": "slide"
    }
   },
   "source": [
    "## NetMe"
   ]
  },
  {
   "cell_type": "markdown",
   "id": "f8bb4cf3",
   "metadata": {
    "slideshow": {
     "slide_type": "fragment"
    }
   },
   "source": [
    "<center>\n",
    "    <img src=\"images/netme.png\" style=\"width:800px\"; />\n",
    "</center>"
   ]
  },
  {
   "cell_type": "markdown",
   "id": "26e3b728",
   "metadata": {
    "slideshow": {
     "slide_type": "subslide"
    }
   },
   "source": [
    "NetMe è un progetto sviluppato\n",
    "dall’Università di Catania in collaborazione con l’Università di Pisa che mi-\n",
    "ra a sfruttare tale conoscenza. E’ possibile descrivere il progetto come un\n",
    "tool in grado di costruire un **grafo di conoscenza biomedica** partendo da un\n",
    "insieme di documenti ottenuti attraverso una query al database PubMed"
   ]
  },
  {
   "cell_type": "markdown",
   "id": "40fa6c28",
   "metadata": {
    "slideshow": {
     "slide_type": "slide"
    }
   },
   "source": [
    "## Knowledge graph"
   ]
  },
  {
   "cell_type": "markdown",
   "id": "e6bd333e",
   "metadata": {
    "slideshow": {
     "slide_type": "subslide"
    }
   },
   "source": [
    "<center>\n",
    "    <img src=\"images/knExample_paint.jpg\" style=\"width:800px\"; />\n",
    "</center>"
   ]
  },
  {
   "cell_type": "markdown",
   "id": "83fcd4fb",
   "metadata": {
    "slideshow": {
     "slide_type": "slide"
    }
   },
   "source": [
    "## Estrapolazione di un Knowledge graph dal testo"
   ]
  },
  {
   "cell_type": "markdown",
   "id": "0e8e7165",
   "metadata": {
    "slideshow": {
     "slide_type": "subslide"
    }
   },
   "source": [
    "<center>\n",
    "    <img src=\"images/kn_example.png\" style=\"width:800px\"; />\n",
    "</center>"
   ]
  },
  {
   "cell_type": "markdown",
   "id": "af345b27",
   "metadata": {
    "slideshow": {
     "slide_type": "slide"
    }
   },
   "source": [
    "## Utilizzi e sviluppi futuri"
   ]
  },
  {
   "cell_type": "markdown",
   "id": "359eb640",
   "metadata": {
    "slideshow": {
     "slide_type": "subslide"
    }
   },
   "source": [
    "Grazie alla creazione di un knowledge graph è possibile:\n",
    "* analizzare grandi quantità di dati visivamente in modo semplice\n",
    "* attenzionare relazioni celate\n",
    "* creare un training set per modelli di machine learning e reti neurali"
   ]
  },
  {
   "cell_type": "markdown",
   "id": "4d249955",
   "metadata": {
    "slideshow": {
     "slide_type": "subslide"
    }
   },
   "source": [
    "In particolare in ambito medico:\n",
    "* analizzare le relazioni tra farmaci, processi biologici, malattie e geni\n",
    "* effettuare drug repurposing\n",
    "* allenare modelli di machine learning per la classificazione e la predizione di malattie, possibili effetti collaterali e di entitò chimico/biologiche\n",
    "* fornire supporto visivo a medici e specialisti"
   ]
  },
  {
   "cell_type": "markdown",
   "id": "ff294246",
   "metadata": {
    "slideshow": {
     "slide_type": "subslide"
    }
   },
   "source": [
    "Attualmente il progetto NetMe necessità di una fase iniziale in cui vengono estratti i  documenti e viene costruita un'unica rete su cui verranno effettuate le query"
   ]
  },
  {
   "cell_type": "markdown",
   "id": "def49901",
   "metadata": {
    "slideshow": {
     "slide_type": "slide"
    }
   },
   "source": [
    "# Da queste esigenze prende vita il progetto WeNet"
   ]
  },
  {
   "cell_type": "markdown",
   "id": "3f6a706b",
   "metadata": {
    "slideshow": {
     "slide_type": "subslide"
    }
   },
   "source": [
    "<center>\n",
    "    <img src=\"images/logo.png\" style=\"width:600px\"; />\n",
    "</center>"
   ]
  },
  {
   "cell_type": "markdown",
   "id": "9d87aead",
   "metadata": {
    "slideshow": {
     "slide_type": "slide"
    }
   },
   "source": [
    "L'obiettivo di WeNet è quello di rendere streaming la costruzione delle reti, fornendo un servizio che non fermandosi mai contribuisce alla costruzione del knowledge graph di NetMe e contemporaneamente fornisca un servizio \"on the fly\" visuale che permette agli utenti di visualizzare le reti corrispondenti ai documenti."
   ]
  },
  {
   "cell_type": "markdown",
   "id": "74e3b451",
   "metadata": {
    "slideshow": {
     "slide_type": "slide"
    }
   },
   "source": [
    "## Pipeline"
   ]
  },
  {
   "cell_type": "markdown",
   "id": "247b7406",
   "metadata": {
    "slideshow": {
     "slide_type": "subslide"
    }
   },
   "source": [
    "<center>\n",
    "    <img src=\"images/pipeline.png\" style=\"width:800px\"; />\n",
    "</center>"
   ]
  },
  {
   "cell_type": "markdown",
   "id": "e43ce2d3",
   "metadata": {
    "slideshow": {
     "slide_type": "slide"
    }
   },
   "source": [
    "##  <img src=\"images/pubmed.png\" width=80> PubMed Central repository\n"
   ]
  },
  {
   "cell_type": "markdown",
   "id": "5993fcc7",
   "metadata": {
    "slideshow": {
     "slide_type": "fragment"
    }
   },
   "source": [
    "La fonte ufficiale dei dati è il repository ufficiale di PubMed e le sue api REST messe a disposizione degli sviluppatori, a scopo di test è però stato sviluppato un server flask per la simulazione dei dati real time. I documenti vengono forniti in formato Json."
   ]
  },
  {
   "cell_type": "markdown",
   "id": "df94c799",
   "metadata": {
    "slideshow": {
     "slide_type": "subslide"
    }
   },
   "source": [
    "<center>\n",
    "    <img src=\"images/full_text.png\" style=\"width:1000px\"; />\n",
    "</center>"
   ]
  },
  {
   "cell_type": "markdown",
   "id": "52fc99ae",
   "metadata": {
    "slideshow": {
     "slide_type": "slide"
    }
   },
   "source": [
    "##  <img src=\"https://www.vectorlogo.zone/logos/elasticco_logstash/elasticco_logstash-icon.svg\"/>Logstash"
   ]
  },
  {
   "cell_type": "markdown",
   "id": "1d11e8c6",
   "metadata": {
    "slideshow": {
     "slide_type": "fragment"
    }
   },
   "source": [
    "Logstash rappresenta la prima parte della pipeline ed è stato utilizzato in combinazione con il plug-in \"http\" per effettuare richieste http al Server flask ogni 30 secondi. In questo modo l'intera pipeline riceve documenti pipeline da processare seguendo questo intervallo di tempo.§\n",
    "Sfruttando l'integrazione nativa con altri tool messa a disposizione da logstash, dopo essere stati prelevati i dati vengono passati ad una coda Kafka (impostata da configurazione come sink)."
   ]
  },
  {
   "cell_type": "markdown",
   "id": "946ec12f",
   "metadata": {
    "slideshow": {
     "slide_type": "slide"
    }
   },
   "source": [
    "##  <img src=\"https://www.vectorlogo.zone/logos/apache_kafka/apache_kafka-icon.svg\"> Kafka"
   ]
  },
  {
   "cell_type": "markdown",
   "id": "27ab8ab2",
   "metadata": {
    "slideshow": {
     "slide_type": "fragment"
    }
   },
   "source": [
    "Dopo essere stati prelevati da logstash i documenti vengono passati ad un Topic kafka su cui rimarranno fino a quando non verranno consumati da un processo spark collegato. Grazie all'uso di Kafka i documenti verranno conservati in modo sicuro e affidabile fino a quando necessario. \n",
    "Inoltre essendo distribuito kafka si presta a scalare se necessario "
   ]
  },
  {
   "cell_type": "markdown",
   "id": "07cf3c14",
   "metadata": {
    "slideshow": {
     "slide_type": "slide"
    }
   },
   "source": [
    "## <img src=\"https://www.vectorlogo.zone/logos/apache_spark/apache_spark-icon.svg\" style=\"zoom:80%;\" > Spark\n"
   ]
  },
  {
   "cell_type": "markdown",
   "id": "89205777",
   "metadata": {
    "slideshow": {
     "slide_type": "fragment"
    }
   },
   "source": [
    "<center>\n",
    "    <img src=\"images/spark.png\" style=\"width:1000px\"; />\n",
    "</center>"
   ]
  },
  {
   "cell_type": "markdown",
   "id": "52d151be",
   "metadata": {
    "slideshow": {
     "slide_type": "subslide"
    }
   },
   "source": [
    "Una volta raccolti i batch vengono inviati a scispacy che provvederà a trasformare il testo in insiemi di archi e nodi e relativi metadati.\n",
    "Successivamente i dati trasformati verranno analizzati tramite dataframe spark sul quale verrà fatta statistica e verrà applicato un algoritmo di clustering K-means sui nodi"
   ]
  },
  {
   "cell_type": "markdown",
   "id": "c1d58591",
   "metadata": {
    "slideshow": {
     "slide_type": "slide"
    }
   },
   "source": [
    "## <img src=\"images/spacy.png\" width=90> Spacy\n"
   ]
  },
  {
   "cell_type": "markdown",
   "id": "541fa4eb",
   "metadata": {
    "slideshow": {
     "slide_type": "fragment"
    }
   },
   "source": [
    "SciSpacy e in generale Spacy rappresentano insieme a spark il cuore pulsante della pipeline, infatti il modulo dedicato è in grado di effettuare NLP ed estrapolare il grafo di conoscenza tramite modelli allenati su dati medici e biomedici"
   ]
  },
  {
   "cell_type": "markdown",
   "id": "3053a3d6",
   "metadata": {
    "slideshow": {
     "slide_type": "slide"
    }
   },
   "source": [
    "<center>\n",
    "    <img src=\"images/sparkResult.png\" style=\"width:1000px\"; />\n",
    "</center>"
   ]
  },
  {
   "cell_type": "markdown",
   "id": "cf63a153",
   "metadata": {
    "slideshow": {
     "slide_type": "slide"
    }
   },
   "source": [
    "## <img src=\"images/elastic-elasticsearch.svg\" width=90> ElasticSearch\n"
   ]
  },
  {
   "cell_type": "markdown",
   "id": "86c88040",
   "metadata": {
    "slideshow": {
     "slide_type": "fragment"
    }
   },
   "source": [
    "Il formato dei grafi ottenuti e dei risultati ottenuti dalle analisi effettuati su di essi si sposa perfettamente con il sistema di indicizzazione messo a disposizione da elasticsearch. \n",
    "I dati una volta memorizzati possono essere recuperati in modo veloce ed efficiente attraverso semplici chiamate REST o le apposite API"
   ]
  },
  {
   "cell_type": "markdown",
   "id": "afab9e4b",
   "metadata": {
    "slideshow": {
     "slide_type": "subslide"
    }
   },
   "source": [
    "<center>\n",
    "    <img src=\"images/elastic_example.png\" style=\"width:600px\"; />\n",
    "</center>"
   ]
  },
  {
   "cell_type": "markdown",
   "id": "49cb5a33",
   "metadata": {
    "slideshow": {
     "slide_type": "slide"
    }
   },
   "source": [
    "## <img src=\"https://www.vectorlogo.zone/logos/elasticco_kibana/elasticco_kibana-icon.svg\"> Kibana\n"
   ]
  },
  {
   "cell_type": "markdown",
   "id": "f4df5979",
   "metadata": {
    "slideshow": {
     "slide_type": "fragment"
    }
   },
   "source": [
    "I dati statistici memorizzati su elasticsearch trovano un'interfaccia intuitiva attraverso l'utilizzo di kibana che fornisce una dashboard tramite cui è possibile analizzare le informazioni relative ad ogni grafo prodotto nel tempo"
   ]
  },
  {
   "cell_type": "markdown",
   "id": "d27f2a87",
   "metadata": {
    "slideshow": {
     "slide_type": "subslide"
    }
   },
   "source": [
    "<center>\n",
    "    <img src=\"images/kib1.png\" style=\"width:1000px\"; />\n",
    "</center>"
   ]
  },
  {
   "cell_type": "markdown",
   "id": "d1f2b6b4",
   "metadata": {
    "slideshow": {
     "slide_type": "slide"
    }
   },
   "source": [
    "## <img src=\"images/graph_logo.png\" width=200> Network visualization"
   ]
  },
  {
   "cell_type": "markdown",
   "id": "f16fdd0e",
   "metadata": {
    "slideshow": {
     "slide_type": "subslide"
    }
   },
   "source": [
    "## <img src=\"images/fail.png\" width=200> Failed Developements"
   ]
  },
  {
   "cell_type": "markdown",
   "id": "d8355185",
   "metadata": {
    "slideshow": {
     "slide_type": "subslide"
    }
   },
   "source": [
    "## <img src=\"images/grafana.png\" width=200> Grafana\n"
   ]
  },
  {
   "cell_type": "markdown",
   "id": "9167147d",
   "metadata": {
    "slideshow": {
     "slide_type": "subslide"
    }
   },
   "source": [
    "<center>\n",
    "    <img src=\"images/nodegraph.png\" style=\"width:800px\"; />\n",
    "</center>"
   ]
  },
  {
   "cell_type": "markdown",
   "id": "fed6059c",
   "metadata": {
    "slideshow": {
     "slide_type": "slide"
    }
   },
   "source": [
    "## <img src=\"images/vega.png\" width=200> Vega\n"
   ]
  },
  {
   "cell_type": "markdown",
   "id": "b5da7e77",
   "metadata": {
    "slideshow": {
     "slide_type": "subslide"
    }
   },
   "source": [
    "<center>\n",
    "    <img src=\"images/arcdiagram.png\" style=\"width:800px\"; />\n",
    "</center>"
   ]
  },
  {
   "cell_type": "markdown",
   "id": "7d930216",
   "metadata": {
    "slideshow": {
     "slide_type": "slide"
    }
   },
   "source": [
    "## <img src=\"images/vanilla.jpg\" width=300> Bored of premade tool? Go vanilla"
   ]
  },
  {
   "cell_type": "markdown",
   "id": "fc156e3c",
   "metadata": {
    "slideshow": {
     "slide_type": "subslide"
    }
   },
   "source": [
    "## <img src=\"images/visjs_logo.png\" width=90> Vis.js\n"
   ]
  },
  {
   "cell_type": "markdown",
   "id": "d8d2830b",
   "metadata": {
    "slideshow": {
     "slide_type": "subslide"
    }
   },
   "source": [
    "<center>\n",
    "    <img src=\"images/drake.png\" style=\"width:600px\"; />\n",
    "</center>"
   ]
  },
  {
   "cell_type": "markdown",
   "id": "0c03a334",
   "metadata": {
    "slideshow": {
     "slide_type": "subslide"
    }
   },
   "source": [
    "<center>\n",
    "    <img src=\"images/graph_example.png\" style=\"width:1000px\"; />\n",
    "</center>"
   ]
  },
  {
   "cell_type": "markdown",
   "id": "6eb3a7ef",
   "metadata": {
    "slideshow": {
     "slide_type": "subslide"
    }
   },
   "source": [
    "<center>\n",
    "    <img src=\"images/graph_zoom_example.png\" style=\"width:600px\"; />\n",
    "</center>"
   ]
  },
  {
   "cell_type": "markdown",
   "id": "148cff77",
   "metadata": {
    "slideshow": {
     "slide_type": "slide"
    }
   },
   "source": [
    "## <img src=\"images/future.png\" width=200> Sviluppi futuri\n"
   ]
  },
  {
   "cell_type": "markdown",
   "id": "ff958cb9",
   "metadata": {
    "slideshow": {
     "slide_type": "subslide"
    }
   },
   "source": [
    "## <img src=\"images/johnsnow.png\" width=200> Spark NLP"
   ]
  },
  {
   "cell_type": "markdown",
   "id": "e53af782",
   "metadata": {
    "slideshow": {
     "slide_type": "subslide"
    }
   },
   "source": [
    "L'utilizzo di spacy come strumento di NLP per l'estrapolazione dei grafi di conoscenza limita l'intera pipeline in quanto non risulta essere parte integrante del modulo spark. Una soluzione migliore nelle prossime versioni di weNet prevede l'utilizzo della libreria SparkNLP, una recente libreria che integrata a spark che permette tra le funzionalità di estrapolare grafi di conoscenza legati al mondo biologico in modo più efficiente rispetto a Spacy."
   ]
  },
  {
   "cell_type": "markdown",
   "id": "1f2af63d",
   "metadata": {
    "slideshow": {
     "slide_type": "subslide"
    }
   },
   "source": [
    "<center>\n",
    "    <img src=\"images/johnmeme.png\" style=\"width:500px\"; />\n",
    "</center>"
   ]
  },
  {
   "cell_type": "markdown",
   "id": "3f6618a6",
   "metadata": {
    "slideshow": {
     "slide_type": "slide"
    }
   },
   "source": [
    "<center>\n",
    "    <img src=\"images/sparkNLP.png\" style=\"width:700px\"; />\n",
    "</center>"
   ]
  },
  {
   "cell_type": "markdown",
   "id": "cfa0fa96",
   "metadata": {
    "slideshow": {
     "slide_type": "slide"
    }
   },
   "source": [
    "## Dashboard web"
   ]
  },
  {
   "cell_type": "markdown",
   "id": "35dba41d",
   "metadata": {
    "slideshow": {
     "slide_type": "fragment"
    }
   },
   "source": [
    "Attualmente la dashboard web permette soltanto la visualizzazione dei grafi generati nel tempo. E' già in cantiere una versione della gui migliorata che permetterà di avere una completa visuale delle reti e delle informazioni relative ad esse, in modo da unificare e migliorare le visualizzazioni offerte da Kibana\n",
    "<center>\n",
    "    <img src=\"images/WIP-logo.png\" style=\"width:400px\"; />\n",
    "</center>"
   ]
  },
  {
   "cell_type": "markdown",
   "id": "7e9c1315",
   "metadata": {
    "slideshow": {
     "slide_type": "slide"
    }
   },
   "source": [
    "<center>\n",
    "    <img src=\"images/meme.png\" style=\"width:1000px\"; />\n",
    "</center>"
   ]
  }
 ],
 "metadata": {
  "celltoolbar": "Slideshow",
  "kernelspec": {
   "display_name": "Python 3 (ipykernel)",
   "language": "python",
   "name": "python3"
  },
  "language_info": {
   "codemirror_mode": {
    "name": "ipython",
    "version": 3
   },
   "file_extension": ".py",
   "mimetype": "text/x-python",
   "name": "python",
   "nbconvert_exporter": "python",
   "pygments_lexer": "ipython3",
   "version": "3.10.4"
  }
 },
 "nbformat": 4,
 "nbformat_minor": 5
}
